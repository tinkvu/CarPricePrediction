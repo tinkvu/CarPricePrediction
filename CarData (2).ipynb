{
  "nbformat": 4,
  "nbformat_minor": 0,
  "metadata": {
    "colab": {
      "provenance": []
    },
    "kernelspec": {
      "name": "python3",
      "display_name": "Python 3"
    },
    "language_info": {
      "name": "python"
    }
  },
  "cells": [
    {
      "cell_type": "markdown",
      "source": [
        "# Data Preprocessing"
      ],
      "metadata": {
        "id": "X2VdRwCN8Jvh"
      }
    },
    {
      "cell_type": "code",
      "execution_count": null,
      "metadata": {
        "id": "kxC3hemj1fEF"
      },
      "outputs": [],
      "source": [
        "import numpy as np\n",
        "import pandas as pd\n",
        "import statistics as st\n",
        "\n",
        "from google.colab import drive\n",
        "drive.mount('/content/drive')\n",
        "\n",
        "# Path to your file in Google Drive\n",
        "file_path = '/content/drive/My Drive/Car Dataset ML Project/car_data1.csv'\n",
        "\n",
        "# Read the CSV file using pandas\n",
        "import pandas as pd\n",
        "df = pd.read_csv(file_path)\n",
        "df.head()"
      ]
    },
    {
      "cell_type": "code",
      "source": [
        "df.describe"
      ],
      "metadata": {
        "id": "mJijdyVC2NAl"
      },
      "execution_count": null,
      "outputs": []
    },
    {
      "cell_type": "code",
      "source": [
        "df.isnull().sum()"
      ],
      "metadata": {
        "id": "BYPlNLOC2vO_"
      },
      "execution_count": null,
      "outputs": []
    },
    {
      "cell_type": "code",
      "source": [
        "df = df.dropna()\n",
        "df.shape"
      ],
      "metadata": {
        "id": "jaKX0xAn3jLe"
      },
      "execution_count": null,
      "outputs": []
    },
    {
      "cell_type": "code",
      "source": [
        "valueskeep=['MANUAL','AUTOMATIC']\n",
        "df = df[df['Transmission'].isin(valueskeep)]\n",
        "df['Transmission'].unique()\n"
      ],
      "metadata": {
        "id": "8ysnhHwkCUd2"
      },
      "execution_count": null,
      "outputs": []
    },
    {
      "cell_type": "code",
      "source": [
        "np.sort(df['Car Condition'].unique())"
      ],
      "metadata": {
        "id": "pnrCMAVHDnH8"
      },
      "execution_count": null,
      "outputs": []
    },
    {
      "cell_type": "code",
      "source": [
        "np.sort(df['Year'].unique())"
      ],
      "metadata": {
        "id": "DP4zQP3iD0X_"
      },
      "execution_count": null,
      "outputs": []
    },
    {
      "cell_type": "code",
      "source": [
        "np.sort(df['Kilometers Driven'].unique())"
      ],
      "metadata": {
        "id": "8pWM3F-wD8t2"
      },
      "execution_count": null,
      "outputs": []
    },
    {
      "cell_type": "code",
      "source": [
        "np.sort(df['Selling Price'].unique())"
      ],
      "metadata": {
        "id": "pB2kmZuKEZpQ"
      },
      "execution_count": null,
      "outputs": []
    },
    {
      "cell_type": "code",
      "source": [
        "df.head()"
      ],
      "metadata": {
        "id": "EQnjzhnnEuP-"
      },
      "execution_count": null,
      "outputs": []
    },
    {
      "cell_type": "code",
      "source": [
        "df=df.drop('sno', axis=1)\n",
        "df.head()"
      ],
      "metadata": {
        "id": "1z2noeFaExbh"
      },
      "execution_count": null,
      "outputs": []
    },
    {
      "cell_type": "code",
      "source": [
        "df.shape"
      ],
      "metadata": {
        "id": "PDd5MDxRFW17"
      },
      "execution_count": null,
      "outputs": []
    },
    {
      "cell_type": "code",
      "source": [
        "df['Owner'] = df['Owner'].replace('First Owner', '1')\n",
        "df['Owner'] = df['Owner'].replace('Second Owner', '2')\n",
        "df['Owner'] = df['Owner'].replace('Third Owner', '3')\n",
        "df.head()"
      ],
      "metadata": {
        "id": "2l4thtrqJT7b"
      },
      "execution_count": null,
      "outputs": []
    },
    {
      "cell_type": "code",
      "source": [
        "df['Model'].unique()"
      ],
      "metadata": {
        "id": "0hbQTP_CJ-V0"
      },
      "execution_count": null,
      "outputs": []
    },
    {
      "cell_type": "code",
      "source": [
        "from sklearn.preprocessing import LabelEncoder\n",
        "\n",
        "le = LabelEncoder()\n",
        "df['Model'] = le.fit_transform(df['Model'])\n",
        "df.head()"
      ],
      "metadata": {
        "id": "osO8JtrzZU23"
      },
      "execution_count": null,
      "outputs": []
    },
    {
      "cell_type": "code",
      "source": [
        "from collections import Counter\n",
        "Counter(df['Model'])"
      ],
      "metadata": {
        "id": "avDF98Q5M0UG"
      },
      "execution_count": null,
      "outputs": []
    },
    {
      "cell_type": "code",
      "source": [
        "df.info()"
      ],
      "metadata": {
        "id": "Q_iUosX9KQwk"
      },
      "execution_count": null,
      "outputs": []
    },
    {
      "cell_type": "code",
      "source": [
        "df['Fuel Type'].unique()"
      ],
      "metadata": {
        "id": "os0D79MmPzkM"
      },
      "execution_count": null,
      "outputs": []
    },
    {
      "cell_type": "code",
      "source": [
        "df['Fuel Type'] = le.fit_transform(df['Fuel Type'])\n",
        "df['Transmission'] = le.fit_transform(df['Transmission'])\n",
        "df.head()\n"
      ],
      "metadata": {
        "id": "hnP8SNOAP4uG"
      },
      "execution_count": null,
      "outputs": []
    },
    {
      "cell_type": "code",
      "source": [
        "df = df.drop('Insurance expired', axis=1)"
      ],
      "metadata": {
        "id": "PVu7eFwdD-no"
      },
      "execution_count": null,
      "outputs": []
    },
    {
      "cell_type": "code",
      "source": [
        "df.to_csv('modified_data.csv', index=False)"
      ],
      "metadata": {
        "id": "Na3eRkb3S_QS"
      },
      "execution_count": null,
      "outputs": []
    },
    {
      "cell_type": "code",
      "source": [
        "df.describe"
      ],
      "metadata": {
        "id": "PN_hNIylCSFa"
      },
      "execution_count": null,
      "outputs": []
    },
    {
      "cell_type": "markdown",
      "source": [
        "\n",
        "\n",
        "---\n",
        "\n"
      ],
      "metadata": {
        "id": "cPFrQURLTV_b"
      }
    },
    {
      "cell_type": "markdown",
      "source": [
        "# Let's start with Applying ML models\n",
        "Linear Regression"
      ],
      "metadata": {
        "id": "4Lhdw9FcTN7r"
      }
    },
    {
      "cell_type": "markdown",
      "source": [
        "\n",
        "\n",
        "---\n",
        "\n"
      ],
      "metadata": {
        "id": "YycIGIl_TTe9"
      }
    },
    {
      "cell_type": "code",
      "source": [
        "from sklearn.model_selection import train_test_split\n",
        "from sklearn.linear_model import LinearRegression\n",
        "from sklearn.metrics import mean_squared_error, r2_score\n",
        "\n",
        "# Assuming your data is stored in a DataFrame named 'df'\n",
        "\n",
        "# Separating features and target variable\n",
        "X = df.drop('Selling Price', axis=1)\n",
        "y = df['Selling Price']\n",
        "\n",
        "# Splitting the data into training and testing sets (80% training, 20% testing)\n",
        "X_train, X_test, y_train, y_test = train_test_split(X, y, test_size=0.2, random_state=42)\n",
        "\n",
        "# Initialize the Linear Regression model\n",
        "model = LinearRegression()\n",
        "\n",
        "# Train the model\n",
        "model.fit(X_train, y_train)\n",
        "\n",
        "# Make predictions on the test set\n",
        "y_pred = model.predict(X_test)\n",
        "\n",
        "# Evaluate the model\n",
        "lrmse = mean_squared_error(y_test, y_pred)\n",
        "lrr2 = r2_score(y_test, y_pred)\n",
        "\n",
        "print(\"Mean Squared Error (MSE):\", lrmse)\n",
        "print(\"R-squared score:\", lrr2)\n"
      ],
      "metadata": {
        "colab": {
          "base_uri": "https://localhost:8080/"
        },
        "id": "4TKrIJmIDKpj",
        "outputId": "a64bd1d5-98fe-4650-9a13-f6c294d5984c"
      },
      "execution_count": null,
      "outputs": [
        {
          "output_type": "stream",
          "name": "stdout",
          "text": [
            "Mean Squared Error (MSE): 23438645459.60009\n",
            "R-squared score: 0.5059594559404886\n"
          ]
        }
      ]
    },
    {
      "cell_type": "markdown",
      "source": [
        "# Now let's use Support Vector Machines"
      ],
      "metadata": {
        "id": "yLz8_gHu75XY"
      }
    },
    {
      "cell_type": "code",
      "source": [
        "from sklearn.svm import SVR\n",
        "from sklearn.metrics import mean_squared_error, r2_score\n",
        "import numpy as np\n",
        "\n",
        "# Assuming X_train, X_test, y_train, y_test are your training and test data\n",
        "\n",
        "# Create and fit the Support Vector Regression model\n",
        "svr = SVR(kernel='linear')  # You can choose different kernels like 'linear', 'poly', etc.\n",
        "svr.fit(X_train, y_train)\n",
        "\n",
        "# Predict on the test set\n",
        "svr_predictions = svr.predict(X_test)\n",
        "\n",
        "# Evaluate the model\n",
        "svrmse = mean_squared_error(y_test, svr_predictions)\n",
        "svrrmse = np.sqrt(svrmse)\n",
        "svrr2 = r2_score(y_test, svr_predictions)\n",
        "\n",
        "\n",
        "print(f\"Mean Squared Error: {svrmse}\")\n",
        "print(f\"Root Mean Squared Error: {svrrmse}\")\n",
        "print(f\"R-squared Score: {svrr2}\")\n"
      ],
      "metadata": {
        "colab": {
          "base_uri": "https://localhost:8080/"
        },
        "id": "sxZygFpG72xc",
        "outputId": "089ba5ef-6939-4910-9ba1-b86e99bcadb8"
      },
      "execution_count": null,
      "outputs": [
        {
          "output_type": "stream",
          "name": "stdout",
          "text": [
            "Mean Squared Error: 75731391659.64008\n",
            "Root Mean Squared Error: 275193.37139480683\n",
            "R-squared Score: -0.5962687776647178\n"
          ]
        }
      ]
    },
    {
      "cell_type": "markdown",
      "source": [
        "# Using Decision Tree Regressor"
      ],
      "metadata": {
        "id": "Tsq9nKj39P4q"
      }
    },
    {
      "cell_type": "code",
      "source": [
        "from sklearn.tree import DecisionTreeRegressor\n",
        "from sklearn.model_selection import train_test_split\n",
        "from sklearn.metrics import mean_squared_error, r2_score\n",
        "import pandas as pd\n",
        "\n",
        "# Assuming 'X' contains your features and 'y' contains your target variable\n",
        "\n",
        "# Splitting the data into training and testing sets\n",
        "#X_train, X_test, y_train, y_test = train_test_split(X, y, test_size=0.2, random_state=42)\n",
        "\n",
        "# Creating the Decision Tree Regression model\n",
        "model = DecisionTreeRegressor(random_state=42)\n",
        "\n",
        "# Training the model\n",
        "model.fit(X_train, y_train)\n",
        "\n",
        "# Making predictions on the test set\n",
        "predictions = model.predict(X_test)\n",
        "\n",
        "# Evaluating the model\n",
        "dtmse = mean_squared_error(y_test, predictions)\n",
        "dtr2 = r2_score(y_test, predictions)\n",
        "\n",
        "print(f\"Mean Squared Error (MSE): {dtmse}\")\n",
        "print(f\"R-squared score: {dtr2}\")\n"
      ],
      "metadata": {
        "colab": {
          "base_uri": "https://localhost:8080/"
        },
        "id": "S-_lvaxK9WZu",
        "outputId": "3b0c6a13-6189-4967-d094-e362ce66ba64"
      },
      "execution_count": null,
      "outputs": [
        {
          "output_type": "stream",
          "name": "stdout",
          "text": [
            "Mean Squared Error (MSE): 20961773414.846153\n",
            "R-squared score: 0.55816704680427\n"
          ]
        }
      ]
    },
    {
      "cell_type": "markdown",
      "source": [
        "# Conclusion after using 3 ML models for the Car Dataset"
      ],
      "metadata": {
        "id": "r-wKuBHI9bHP"
      }
    },
    {
      "cell_type": "markdown",
      "source": [
        "So, here we have used 3 ML models for the same dataset, Car Dataset. Let's compare the accuracy."
      ],
      "metadata": {
        "id": "7I-eYCqR9fAB"
      }
    },
    {
      "cell_type": "code",
      "source": [
        "print(\"\\n\\nLinear Regression:\")\n",
        "print(f\"Mean Squared Error (MSE): {lrmse}\")\n",
        "print(f\"R-squared score: {lrr2}\")\n",
        "\n",
        "print(\"\\n\\nSupport Vector Machine:\")\n",
        "print(f\"Mean Squared Error (MSE): {svmmse}\")\n",
        "print(f\"R-squared score: {svmr2}\")\n",
        "\n",
        "print(\"\\n\\nDecision Tree:\")\n",
        "print(f\"Mean Squared Error (MSE): {dtmse}\")\n",
        "print(f\"R-squared score: {dtr2}\")"
      ],
      "metadata": {
        "colab": {
          "base_uri": "https://localhost:8080/"
        },
        "id": "FCF_IJrM-h-p",
        "outputId": "7ebc46a6-38d3-49bf-e9d9-ecd1d0ec5544"
      },
      "execution_count": null,
      "outputs": [
        {
          "output_type": "stream",
          "name": "stdout",
          "text": [
            "\n",
            "\n",
            "Linear Regression:\n",
            "Mean Squared Error (MSE): 23438645459.60009\n",
            "R-squared score: 0.5059594559404886\n",
            "\n",
            "\n",
            "Support Vector Machine:\n",
            "Mean Squared Error (MSE): 51378151529.21221\n",
            "R-squared score: -0.08295037688995799\n",
            "\n",
            "\n",
            "Decision Tree:\n",
            "Mean Squared Error (MSE): 20961773414.846153\n",
            "R-squared score: 0.55816704680427\n"
          ]
        }
      ]
    },
    {
      "cell_type": "markdown",
      "source": [
        "# Observations:\n",
        "\n",
        "The R-squared score measures the goodness of fit of a model, where higher values (closer to 1) indicate a better fit. The MSE represents the average squared difference between the predicted values and the actual values. Lower MSE values indicate better accuracy.\n",
        "\n",
        "Based on these scores:\n",
        "\n",
        "The **Decision Tree model** appears to have the lowest MSE and a relatively higher R-squared score among the three models, indicating better performance compared to Linear Regression and Support Vector Machine in this specific scenario."
      ],
      "metadata": {
        "id": "vMRjWqE4_9T7"
      }
    },
    {
      "cell_type": "code",
      "source": [
        "model=DecisionTreeRegressor()"
      ],
      "metadata": {
        "id": "F8HtRY2AGtIU"
      },
      "execution_count": null,
      "outputs": []
    },
    {
      "cell_type": "markdown",
      "source": [
        "# Deployment"
      ],
      "metadata": {
        "id": "ESDp1m9oJB_O"
      }
    },
    {
      "cell_type": "code",
      "source": [
        "df.head()"
      ],
      "metadata": {
        "colab": {
          "base_uri": "https://localhost:8080/",
          "height": 243
        },
        "id": "faF-wnVqXkCj",
        "outputId": "2128a181-79ff-45c9-8fe6-f20df2a2bbcb"
      },
      "execution_count": null,
      "outputs": [
        {
          "output_type": "execute_result",
          "data": {
            "text/plain": [
              "   Model  Selling Price  Kilometers Driven    Year  Owner  Fuel Type  \\\n",
              "0    250       312165.0            82238.0  2014.0      1          2   \n",
              "1    320       313799.0            30558.0  2013.0      1          1   \n",
              "2    172       295999.0            22164.0  2018.0      1          1   \n",
              "3    226       435199.0            30535.0  2013.0      1          0   \n",
              "4    249       289099.0            15738.0  2013.0      1          1   \n",
              "\n",
              "   Transmission  Car Condition  current price  \n",
              "0             1            4.2      1374415.0  \n",
              "1             1            4.4      1072043.0  \n",
              "2             1            4.8      1351931.0  \n",
              "3             1            4.3       840305.0  \n",
              "4             1            4.3       861879.0  "
            ],
            "text/html": [
              "\n",
              "  <div id=\"df-2fb3240c-6b2a-4ecb-92f8-2053c3fc430c\" class=\"colab-df-container\">\n",
              "    <div>\n",
              "<style scoped>\n",
              "    .dataframe tbody tr th:only-of-type {\n",
              "        vertical-align: middle;\n",
              "    }\n",
              "\n",
              "    .dataframe tbody tr th {\n",
              "        vertical-align: top;\n",
              "    }\n",
              "\n",
              "    .dataframe thead th {\n",
              "        text-align: right;\n",
              "    }\n",
              "</style>\n",
              "<table border=\"1\" class=\"dataframe\">\n",
              "  <thead>\n",
              "    <tr style=\"text-align: right;\">\n",
              "      <th></th>\n",
              "      <th>Model</th>\n",
              "      <th>Selling Price</th>\n",
              "      <th>Kilometers Driven</th>\n",
              "      <th>Year</th>\n",
              "      <th>Owner</th>\n",
              "      <th>Fuel Type</th>\n",
              "      <th>Transmission</th>\n",
              "      <th>Car Condition</th>\n",
              "      <th>current price</th>\n",
              "    </tr>\n",
              "  </thead>\n",
              "  <tbody>\n",
              "    <tr>\n",
              "      <th>0</th>\n",
              "      <td>250</td>\n",
              "      <td>312165.0</td>\n",
              "      <td>82238.0</td>\n",
              "      <td>2014.0</td>\n",
              "      <td>1</td>\n",
              "      <td>2</td>\n",
              "      <td>1</td>\n",
              "      <td>4.2</td>\n",
              "      <td>1374415.0</td>\n",
              "    </tr>\n",
              "    <tr>\n",
              "      <th>1</th>\n",
              "      <td>320</td>\n",
              "      <td>313799.0</td>\n",
              "      <td>30558.0</td>\n",
              "      <td>2013.0</td>\n",
              "      <td>1</td>\n",
              "      <td>1</td>\n",
              "      <td>1</td>\n",
              "      <td>4.4</td>\n",
              "      <td>1072043.0</td>\n",
              "    </tr>\n",
              "    <tr>\n",
              "      <th>2</th>\n",
              "      <td>172</td>\n",
              "      <td>295999.0</td>\n",
              "      <td>22164.0</td>\n",
              "      <td>2018.0</td>\n",
              "      <td>1</td>\n",
              "      <td>1</td>\n",
              "      <td>1</td>\n",
              "      <td>4.8</td>\n",
              "      <td>1351931.0</td>\n",
              "    </tr>\n",
              "    <tr>\n",
              "      <th>3</th>\n",
              "      <td>226</td>\n",
              "      <td>435199.0</td>\n",
              "      <td>30535.0</td>\n",
              "      <td>2013.0</td>\n",
              "      <td>1</td>\n",
              "      <td>0</td>\n",
              "      <td>1</td>\n",
              "      <td>4.3</td>\n",
              "      <td>840305.0</td>\n",
              "    </tr>\n",
              "    <tr>\n",
              "      <th>4</th>\n",
              "      <td>249</td>\n",
              "      <td>289099.0</td>\n",
              "      <td>15738.0</td>\n",
              "      <td>2013.0</td>\n",
              "      <td>1</td>\n",
              "      <td>1</td>\n",
              "      <td>1</td>\n",
              "      <td>4.3</td>\n",
              "      <td>861879.0</td>\n",
              "    </tr>\n",
              "  </tbody>\n",
              "</table>\n",
              "</div>\n",
              "    <div class=\"colab-df-buttons\">\n",
              "\n",
              "  <div class=\"colab-df-container\">\n",
              "    <button class=\"colab-df-convert\" onclick=\"convertToInteractive('df-2fb3240c-6b2a-4ecb-92f8-2053c3fc430c')\"\n",
              "            title=\"Convert this dataframe to an interactive table.\"\n",
              "            style=\"display:none;\">\n",
              "\n",
              "  <svg xmlns=\"http://www.w3.org/2000/svg\" height=\"24px\" viewBox=\"0 -960 960 960\">\n",
              "    <path d=\"M120-120v-720h720v720H120Zm60-500h600v-160H180v160Zm220 220h160v-160H400v160Zm0 220h160v-160H400v160ZM180-400h160v-160H180v160Zm440 0h160v-160H620v160ZM180-180h160v-160H180v160Zm440 0h160v-160H620v160Z\"/>\n",
              "  </svg>\n",
              "    </button>\n",
              "\n",
              "  <style>\n",
              "    .colab-df-container {\n",
              "      display:flex;\n",
              "      gap: 12px;\n",
              "    }\n",
              "\n",
              "    .colab-df-convert {\n",
              "      background-color: #E8F0FE;\n",
              "      border: none;\n",
              "      border-radius: 50%;\n",
              "      cursor: pointer;\n",
              "      display: none;\n",
              "      fill: #1967D2;\n",
              "      height: 32px;\n",
              "      padding: 0 0 0 0;\n",
              "      width: 32px;\n",
              "    }\n",
              "\n",
              "    .colab-df-convert:hover {\n",
              "      background-color: #E2EBFA;\n",
              "      box-shadow: 0px 1px 2px rgba(60, 64, 67, 0.3), 0px 1px 3px 1px rgba(60, 64, 67, 0.15);\n",
              "      fill: #174EA6;\n",
              "    }\n",
              "\n",
              "    .colab-df-buttons div {\n",
              "      margin-bottom: 4px;\n",
              "    }\n",
              "\n",
              "    [theme=dark] .colab-df-convert {\n",
              "      background-color: #3B4455;\n",
              "      fill: #D2E3FC;\n",
              "    }\n",
              "\n",
              "    [theme=dark] .colab-df-convert:hover {\n",
              "      background-color: #434B5C;\n",
              "      box-shadow: 0px 1px 3px 1px rgba(0, 0, 0, 0.15);\n",
              "      filter: drop-shadow(0px 1px 2px rgba(0, 0, 0, 0.3));\n",
              "      fill: #FFFFFF;\n",
              "    }\n",
              "  </style>\n",
              "\n",
              "    <script>\n",
              "      const buttonEl =\n",
              "        document.querySelector('#df-2fb3240c-6b2a-4ecb-92f8-2053c3fc430c button.colab-df-convert');\n",
              "      buttonEl.style.display =\n",
              "        google.colab.kernel.accessAllowed ? 'block' : 'none';\n",
              "\n",
              "      async function convertToInteractive(key) {\n",
              "        const element = document.querySelector('#df-2fb3240c-6b2a-4ecb-92f8-2053c3fc430c');\n",
              "        const dataTable =\n",
              "          await google.colab.kernel.invokeFunction('convertToInteractive',\n",
              "                                                    [key], {});\n",
              "        if (!dataTable) return;\n",
              "\n",
              "        const docLinkHtml = 'Like what you see? Visit the ' +\n",
              "          '<a target=\"_blank\" href=https://colab.research.google.com/notebooks/data_table.ipynb>data table notebook</a>'\n",
              "          + ' to learn more about interactive tables.';\n",
              "        element.innerHTML = '';\n",
              "        dataTable['output_type'] = 'display_data';\n",
              "        await google.colab.output.renderOutput(dataTable, element);\n",
              "        const docLink = document.createElement('div');\n",
              "        docLink.innerHTML = docLinkHtml;\n",
              "        element.appendChild(docLink);\n",
              "      }\n",
              "    </script>\n",
              "  </div>\n",
              "\n",
              "\n",
              "<div id=\"df-e91cbbfb-0b5c-49e1-ba19-cb72039cf93e\">\n",
              "  <button class=\"colab-df-quickchart\" onclick=\"quickchart('df-e91cbbfb-0b5c-49e1-ba19-cb72039cf93e')\"\n",
              "            title=\"Suggest charts\"\n",
              "            style=\"display:none;\">\n",
              "\n",
              "<svg xmlns=\"http://www.w3.org/2000/svg\" height=\"24px\"viewBox=\"0 0 24 24\"\n",
              "     width=\"24px\">\n",
              "    <g>\n",
              "        <path d=\"M19 3H5c-1.1 0-2 .9-2 2v14c0 1.1.9 2 2 2h14c1.1 0 2-.9 2-2V5c0-1.1-.9-2-2-2zM9 17H7v-7h2v7zm4 0h-2V7h2v10zm4 0h-2v-4h2v4z\"/>\n",
              "    </g>\n",
              "</svg>\n",
              "  </button>\n",
              "\n",
              "<style>\n",
              "  .colab-df-quickchart {\n",
              "      --bg-color: #E8F0FE;\n",
              "      --fill-color: #1967D2;\n",
              "      --hover-bg-color: #E2EBFA;\n",
              "      --hover-fill-color: #174EA6;\n",
              "      --disabled-fill-color: #AAA;\n",
              "      --disabled-bg-color: #DDD;\n",
              "  }\n",
              "\n",
              "  [theme=dark] .colab-df-quickchart {\n",
              "      --bg-color: #3B4455;\n",
              "      --fill-color: #D2E3FC;\n",
              "      --hover-bg-color: #434B5C;\n",
              "      --hover-fill-color: #FFFFFF;\n",
              "      --disabled-bg-color: #3B4455;\n",
              "      --disabled-fill-color: #666;\n",
              "  }\n",
              "\n",
              "  .colab-df-quickchart {\n",
              "    background-color: var(--bg-color);\n",
              "    border: none;\n",
              "    border-radius: 50%;\n",
              "    cursor: pointer;\n",
              "    display: none;\n",
              "    fill: var(--fill-color);\n",
              "    height: 32px;\n",
              "    padding: 0;\n",
              "    width: 32px;\n",
              "  }\n",
              "\n",
              "  .colab-df-quickchart:hover {\n",
              "    background-color: var(--hover-bg-color);\n",
              "    box-shadow: 0 1px 2px rgba(60, 64, 67, 0.3), 0 1px 3px 1px rgba(60, 64, 67, 0.15);\n",
              "    fill: var(--button-hover-fill-color);\n",
              "  }\n",
              "\n",
              "  .colab-df-quickchart-complete:disabled,\n",
              "  .colab-df-quickchart-complete:disabled:hover {\n",
              "    background-color: var(--disabled-bg-color);\n",
              "    fill: var(--disabled-fill-color);\n",
              "    box-shadow: none;\n",
              "  }\n",
              "\n",
              "  .colab-df-spinner {\n",
              "    border: 2px solid var(--fill-color);\n",
              "    border-color: transparent;\n",
              "    border-bottom-color: var(--fill-color);\n",
              "    animation:\n",
              "      spin 1s steps(1) infinite;\n",
              "  }\n",
              "\n",
              "  @keyframes spin {\n",
              "    0% {\n",
              "      border-color: transparent;\n",
              "      border-bottom-color: var(--fill-color);\n",
              "      border-left-color: var(--fill-color);\n",
              "    }\n",
              "    20% {\n",
              "      border-color: transparent;\n",
              "      border-left-color: var(--fill-color);\n",
              "      border-top-color: var(--fill-color);\n",
              "    }\n",
              "    30% {\n",
              "      border-color: transparent;\n",
              "      border-left-color: var(--fill-color);\n",
              "      border-top-color: var(--fill-color);\n",
              "      border-right-color: var(--fill-color);\n",
              "    }\n",
              "    40% {\n",
              "      border-color: transparent;\n",
              "      border-right-color: var(--fill-color);\n",
              "      border-top-color: var(--fill-color);\n",
              "    }\n",
              "    60% {\n",
              "      border-color: transparent;\n",
              "      border-right-color: var(--fill-color);\n",
              "    }\n",
              "    80% {\n",
              "      border-color: transparent;\n",
              "      border-right-color: var(--fill-color);\n",
              "      border-bottom-color: var(--fill-color);\n",
              "    }\n",
              "    90% {\n",
              "      border-color: transparent;\n",
              "      border-bottom-color: var(--fill-color);\n",
              "    }\n",
              "  }\n",
              "</style>\n",
              "\n",
              "  <script>\n",
              "    async function quickchart(key) {\n",
              "      const quickchartButtonEl =\n",
              "        document.querySelector('#' + key + ' button');\n",
              "      quickchartButtonEl.disabled = true;  // To prevent multiple clicks.\n",
              "      quickchartButtonEl.classList.add('colab-df-spinner');\n",
              "      try {\n",
              "        const charts = await google.colab.kernel.invokeFunction(\n",
              "            'suggestCharts', [key], {});\n",
              "      } catch (error) {\n",
              "        console.error('Error during call to suggestCharts:', error);\n",
              "      }\n",
              "      quickchartButtonEl.classList.remove('colab-df-spinner');\n",
              "      quickchartButtonEl.classList.add('colab-df-quickchart-complete');\n",
              "    }\n",
              "    (() => {\n",
              "      let quickchartButtonEl =\n",
              "        document.querySelector('#df-e91cbbfb-0b5c-49e1-ba19-cb72039cf93e button');\n",
              "      quickchartButtonEl.style.display =\n",
              "        google.colab.kernel.accessAllowed ? 'block' : 'none';\n",
              "    })();\n",
              "  </script>\n",
              "</div>\n",
              "    </div>\n",
              "  </div>\n"
            ]
          },
          "metadata": {},
          "execution_count": 155
        }
      ]
    },
    {
      "cell_type": "code",
      "source": [
        "\n",
        "import pickle\n",
        "import numpy as np\n",
        "from sklearn.tree import DecisionTreeRegressor\n",
        "from sklearn.model_selection import train_test_split\n",
        "from sklearn.metrics import mean_squared_error, r2_score\n",
        "import pandas as pd\n",
        "\n",
        "#import warnings\n",
        "#warnings.filterwarnings(\"ignore\")\n",
        "\n",
        "df=pd.read_csv('modified_data.csv')\n",
        "\n",
        "# Assuming 'X' contains your features and 'y' contains your target variable\n",
        "X = df.drop('Selling Price', axis=1)\n",
        "y = df['Selling Price']\n",
        "\n",
        "\n",
        "df = np.array(df)\n",
        "\n",
        "y = y.astype('int')\n",
        "X = X.astype('int')\n",
        "# print(X,y)\n",
        "X_train, X_test, y_train, y_test = train_test_split(X, y, test_size=0.2, random_state=0)\n",
        "\n",
        "model = DecisionTreeRegressor(random_state=42)\n",
        "\n",
        "# Training the model\n",
        "model.fit(X_train, y_train)\n",
        "\n",
        "pickle.dump(model,open('model.pkl','wb'))\n"
      ],
      "metadata": {
        "id": "nay75TcMT7Ws"
      },
      "execution_count": null,
      "outputs": []
    },
    {
      "cell_type": "markdown",
      "source": [
        "Here is the App code:"
      ],
      "metadata": {
        "id": "PdO3QZhHU9yc"
      }
    },
    {
      "cell_type": "markdown",
      "source": [
        "#StreamLit Code"
      ],
      "metadata": {
        "id": "lVyvHe9NYZ0X"
      }
    },
    {
      "cell_type": "code",
      "source": [
        "import streamlit as st\n",
        "import pickle\n",
        "import numpy as np\n",
        "\n",
        "# Load the trained model\n",
        "model = pickle.load(open('model.pkl', 'rb'))\n",
        "\n",
        "# Function to predict selling price\n",
        "def predict_selling_price(features):\n",
        "    features = np.array(features).reshape(1, -1)\n",
        "    prediction = model.predict(features)\n",
        "    return prediction[0]\n",
        "\n",
        "def main():\n",
        "    st.title('Car Selling Price Prediction')\n",
        "\n",
        "    # Sidebar with input fields\n",
        "    st.sidebar.header('Enter Car Details')\n",
        "    model = st.sidebar.selectbox('Model', options=['Model1', 'Model2', 'Model3'])  # Add your model choices\n",
        "    kilometers_driven = st.sidebar.number_input('Kilometers Driven')\n",
        "    year = st.sidebar.number_input('Year')\n",
        "    owner = st.sidebar.selectbox('Owner', options=['First Owner', 'Second Owner', 'Third Owner'])  # Add owner options\n",
        "    fuel_type = st.sidebar.selectbox('Fuel Type', options=['Petrol', 'Diesel', 'CNG'])  # Add fuel type options\n",
        "    transmission = st.sidebar.selectbox('Transmission', options=['Manual', 'Automatic'])  # Add transmission options\n",
        "    car_condition = st.sidebar.number_input('Car Condition')  # Adjust the range as needed\n",
        "    current_price = st.sidebar.number_input('Current Price')\n",
        "\n",
        "    # Prepare features for prediction\n",
        "    features = [model, kilometers_driven, year, owner, fuel_type, transmission, car_condition, current_price]\n",
        "\n",
        "    # Make prediction\n",
        "    if st.sidebar.button('Predict'):\n",
        "        prediction = predict_selling_price(features)\n",
        "        st.success(f'Predicted Selling Price: ${prediction:.2f}')\n",
        "\n",
        "if __name__ == \"__main__\":\n",
        "    main()\n"
      ],
      "metadata": {
        "id": "nmRhBKzaU1BG"
      },
      "execution_count": null,
      "outputs": []
    },
    {
      "cell_type": "code",
      "source": [
        "!streamlit run app.py --server.port 8501\n"
      ],
      "metadata": {
        "colab": {
          "base_uri": "https://localhost:8080/"
        },
        "id": "cvsonyrpaOLy",
        "outputId": "762d9d37-446a-4a7d-bff9-61ad475302fa"
      },
      "execution_count": null,
      "outputs": [
        {
          "metadata": {
            "tags": null
          },
          "name": "stdout",
          "output_type": "stream",
          "text": [
            "\n",
            "Collecting usage statistics. To deactivate, set browser.gatherUsageStats to False.\n",
            "\u001b[0m\n",
            "\u001b[0m\n",
            "\u001b[34m\u001b[1m  You can now view your Streamlit app in your browser.\u001b[0m\n",
            "\u001b[0m\n",
            "\u001b[34m  Network URL: \u001b[0m\u001b[1mhttp://172.28.0.12:8501\u001b[0m\n",
            "\u001b[34m  External URL: \u001b[0m\u001b[1mhttp://34.30.9.131:8501\u001b[0m\n",
            "\u001b[0m\n"
          ]
        }
      ]
    },
    {
      "cell_type": "code",
      "source": [
        "!pip install pyngrok==5.0.0"
      ],
      "metadata": {
        "colab": {
          "base_uri": "https://localhost:8080/"
        },
        "id": "o9Qhm6c9Y22v",
        "outputId": "520e5678-46f0-4a14-a868-334ce05bddc7"
      },
      "execution_count": null,
      "outputs": [
        {
          "output_type": "stream",
          "name": "stdout",
          "text": [
            "Requirement already satisfied: pyngrok==5.0.0 in /usr/local/lib/python3.10/dist-packages (5.0.0)\n",
            "Requirement already satisfied: PyYAML in /usr/local/lib/python3.10/dist-packages (from pyngrok==5.0.0) (6.0.1)\n"
          ]
        }
      ]
    },
    {
      "cell_type": "code",
      "source": [
        "from pyngrok import ngrok\n",
        "\n",
        "# Setup a tunnel to the Streamlit port 8501\n",
        "public_url = ngrok.connect(port='8501')\n",
        "public_url\n"
      ],
      "metadata": {
        "colab": {
          "base_uri": "https://localhost:8080/"
        },
        "id": "De6hDNa_YfsC",
        "outputId": "d01f9c49-3de4-424b-a3a7-73c32cfe7c1a"
      },
      "execution_count": null,
      "outputs": [
        {
          "output_type": "execute_result",
          "data": {
            "text/plain": [
              "<NgrokTunnel: \"http://cb1d-34-30-9-131.ngrok.io\" -> \"http://localhost:80\">"
            ]
          },
          "metadata": {},
          "execution_count": 176
        }
      ]
    },
    {
      "cell_type": "code",
      "source": [
        "from pyngrok import ngrok\n",
        "\n",
        "# Get the list of active tunnels\n",
        "tunnels = ngrok.get_tunnels()\n",
        "\n",
        "# Iterate through the tunnels and terminate them\n",
        "for tunnel in tunnels:\n",
        "    ngrok.disconnect(tunnel.public_url)\n"
      ],
      "metadata": {
        "id": "6KiAbJkSZUuF"
      },
      "execution_count": null,
      "outputs": []
    }
  ]
}